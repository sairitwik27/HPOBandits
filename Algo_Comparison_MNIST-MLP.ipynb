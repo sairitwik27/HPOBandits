{
 "cells": [
  {
   "cell_type": "markdown",
   "id": "c3df7c10",
   "metadata": {},
   "source": [
    "### Comparing GridSearch, Random Search, Hyperband,BOHB and GP-UCB"
   ]
  },
  {
   "cell_type": "code",
   "execution_count": 2,
   "id": "71828f25",
   "metadata": {},
   "outputs": [],
   "source": [
    "from sklearn.neighbors import KNeighborsClassifier,KNeighborsRegressor\n",
    "from sklearn import datasets\n",
    "import scipy.stats as stats\n",
    "import numpy as np"
   ]
  },
  {
   "cell_type": "markdown",
   "id": "cf70833f",
   "metadata": {},
   "source": [
    "### Load Dataset"
   ]
  },
  {
   "cell_type": "code",
   "execution_count": 3,
   "id": "7a2136fc",
   "metadata": {},
   "outputs": [],
   "source": [
    "d = datasets.load_digits()\n",
    "X = d.data\n",
    "y = d.target\n",
    "\n",
    "# split X and y into training and testing sets\n",
    "\n",
    "from sklearn.model_selection import train_test_split\n",
    "X_train, X_test, y_train, y_test = train_test_split(X, y, test_size = 0.2, random_state = 0)\n",
    "\n",
    "from sklearn.preprocessing import StandardScaler\n",
    "scaler = StandardScaler()\n",
    "X_train = scaler.fit_transform(X_train)\n",
    "X_test = scaler.transform(X_test)"
   ]
  },
  {
   "cell_type": "code",
   "execution_count": 7,
   "id": "4836afc1",
   "metadata": {},
   "outputs": [
    {
     "data": {
      "text/plain": [
       "(64,)"
      ]
     },
     "execution_count": 7,
     "metadata": {},
     "output_type": "execute_result"
    }
   ],
   "source": [
    "X_train[0].shape"
   ]
  },
  {
   "cell_type": "code",
   "execution_count": 4,
   "id": "584e6c9c",
   "metadata": {},
   "outputs": [],
   "source": [
    "from keras.models import Sequential, Model\n",
    "from keras.layers import Dense, Input\n",
    "from sklearn.model_selection import GridSearchCV\n",
    "from keras.wrappers.scikit_learn import KerasClassifier\n",
    "from keras.callbacks import EarlyStopping\n",
    "def ANN(optimizer = 'sgd',neurons=32,batch_size=32,epochs=20,activation='relu',patience=3,loss='categorical_crossentropy'):\n",
    "    model = Sequential()\n",
    "    model.add(Conv2D(64, kernel_size=3, activation=’relu’, input_shape=(28,28,1)))\n",
    "    model.add(Conv2D(32, kernel_size=3, activation=’relu’))\n",
    "    model.add(Flatten())\n",
    "    model.add(Dense(neurons, input_shape=(X.shape[1],), activation=activation))\n",
    "    model.add(Dense(neurons, activation=activation))\n",
    "    model.add(Dense(10,activation='softmax'))  # 10 is the number of classes in the dataset, you can change it based on your dataset\n",
    "    model.compile(optimizer = optimizer, loss=loss)\n",
    "    early_stopping = EarlyStopping(monitor=\"loss\", patience = patience)# early stop patience\n",
    "    history = model.fit(X, pd.get_dummies(y).values,\n",
    "              batch_size=batch_size,\n",
    "              epochs=epochs,\n",
    "              callbacks = [early_stopping],\n",
    "              verbose=0) #verbose set to 1 will show the training process\n",
    "    return model"
   ]
  },
  {
   "cell_type": "markdown",
   "id": "553db632",
   "metadata": {},
   "source": [
    "### Algorithm Comparison"
   ]
  },
  {
   "cell_type": "markdown",
   "id": "24ab9f4d",
   "metadata": {},
   "source": [
    "### 1. GridSearch"
   ]
  },
  {
   "cell_type": "code",
   "execution_count": 5,
   "id": "172b7318",
   "metadata": {},
   "outputs": [],
   "source": [
    "def makegrid(startnormal,endnormal,finegrain): \n",
    "    import numpy as np\n",
    "    start = np.log10(startnormal)\n",
    "    end = np.log10(endnormal)\n",
    "\n",
    "    finegrain = finegrain\n",
    "    stepsize = (end-start)/finegrain\n",
    "\n",
    "    logvals = []\n",
    "    for i in range(finegrain):\n",
    "        logvals.append(start+stepsize)\n",
    "\n",
    "    grid = [10**x for x in logvals]\n",
    "    \n",
    "    return grid"
   ]
  },
  {
   "cell_type": "code",
   "execution_count": null,
   "id": "a3c194fd",
   "metadata": {},
   "outputs": [],
   "source": [
    "from sklearn.model_selection import GridSearchCV\n",
    "rf_params = {\n",
    "    'n_neighbors': range(1,20),\n",
    "}\n",
    "clf = KNeighborsClassifier()\n",
    "grid = GridSearchCV(clf, rf_params, cv=5,scoring='accuracy')\n",
    "grid.fit(X_train, y_train)\n",
    "print(grid.best_params_)\n",
    "print(\"Accuracy:\"+ str(grid.best_score_))"
   ]
  },
  {
   "cell_type": "code",
   "execution_count": null,
   "id": "12239a77",
   "metadata": {},
   "outputs": [],
   "source": [
    "gs_times = grid.cv_results_['mean_fit_time']+grid.cv_results_['mean_score_time']\n",
    "gs_scores = grid.cv_results_['mean_test_score']"
   ]
  },
  {
   "cell_type": "code",
   "execution_count": null,
   "id": "c42926a3",
   "metadata": {},
   "outputs": [],
   "source": []
  },
  {
   "cell_type": "markdown",
   "id": "a016f9d7",
   "metadata": {},
   "source": [
    "### 2. RandomSearch"
   ]
  },
  {
   "cell_type": "code",
   "execution_count": null,
   "id": "bdbb55cd",
   "metadata": {},
   "outputs": [],
   "source": [
    "import scipy.stats as stats\n",
    "from scipy.stats import randint as sp_randint\n",
    "from sklearn.model_selection import RandomizedSearchCV\n",
    "rf_params = {\n",
    "    'n_neighbors': range(1,20),\n",
    "}\n",
    "clf = KNeighborsClassifier()\n",
    "n_iter_search=20\n",
    "Random = RandomizedSearchCV(clf, param_distributions=rf_params,n_iter=n_iter_search,cv=3,scoring='accuracy')\n",
    "Random.fit(X, y)\n",
    "print(Random.best_params_)\n",
    "print(\"Accuracy:\"+ str(Random.best_score_))"
   ]
  },
  {
   "cell_type": "code",
   "execution_count": null,
   "id": "84377fce",
   "metadata": {},
   "outputs": [],
   "source": [
    "rs_times = Random.cv_results_['mean_fit_time']+Random.cv_results_['mean_score_time']\n",
    "rs_scores = Random.cv_results_['mean_test_score']"
   ]
  },
  {
   "cell_type": "code",
   "execution_count": null,
   "id": "7e1daf48",
   "metadata": {},
   "outputs": [],
   "source": [
    "len(rs_times)"
   ]
  },
  {
   "cell_type": "markdown",
   "id": "aa2ed03f",
   "metadata": {},
   "source": [
    "### 3. Hyperband"
   ]
  },
  {
   "cell_type": "code",
   "execution_count": null,
   "id": "e8332592",
   "metadata": {},
   "outputs": [],
   "source": [
    "!pip install hpbandster-sklearn"
   ]
  },
  {
   "cell_type": "code",
   "execution_count": null,
   "id": "4608a918",
   "metadata": {},
   "outputs": [],
   "source": [
    "## Reference: https://github.com/Yard1/hpbandster-sklearn\n",
    "import numpy as np\n",
    "from sklearn.utils.validation import check_is_fitted\n",
    "from hpbandster_sklearn import HpBandSterSearchCV\n",
    "import ConfigSpace as cs\n",
    "import ConfigSpace.hyperparameters as CSH\n",
    "\n",
    "\n",
    "rf_params = {\n",
    "    'n_neighbors': range(1,20),\n",
    "}\n",
    "clf = KNeighborsClassifier()\n",
    "np.random.seed(0)\n",
    "\n",
    "param_distributions = cs.ConfigurationSpace(\n",
    "    seed=0,\n",
    "    space={\n",
    "        'n_neighbors':(1,20),  # Note the decimal to make it a float\n",
    "    }\n",
    ")\n",
    "\n",
    "# bohb = HpBandSterSearchCV(clf,param_distributions,optimizer='bohb',random_state=0,n_jobs=1, n_iter=20,cv=5,scoring='accuracy', verbose=1).fit(X_train, y_train)\n",
    "\n",
    "hyperband = HpBandSterSearchCV(clf,param_distributions,optimizer='hyperband',random_state=0,n_jobs=1,cv=5, n_iter=20, verbose=1,scoring='accuracy').fit(X_train, y_train)\n",
    "# hyperband.best_params_"
   ]
  },
  {
   "cell_type": "code",
   "execution_count": null,
   "id": "d1c5363f",
   "metadata": {},
   "outputs": [],
   "source": [
    "hyperband_times = hyperband.cv_results_['mean_fit_time']+hyperband.cv_results_['mean_score_time']\n",
    "hyperband_scores = hyperband.cv_results_['mean_test_score']"
   ]
  },
  {
   "cell_type": "code",
   "execution_count": null,
   "id": "da0e3d8a",
   "metadata": {},
   "outputs": [],
   "source": [
    "hyperband.cv_results_"
   ]
  },
  {
   "cell_type": "markdown",
   "id": "f7b3fc57",
   "metadata": {},
   "source": [
    "### 4. GP-UCB"
   ]
  },
  {
   "cell_type": "code",
   "execution_count": null,
   "id": "b7072006",
   "metadata": {},
   "outputs": [],
   "source": [
    "## Reference: https://github.com/LiYangHart/Hyperparameter-Optimization-of-Machine-Learning-Algorithms\n",
    "\n",
    "from skopt import BayesSearchCV \n",
    "from sklearn.svm import SVC\n",
    "## Hack since the sklearn version has some issues, https://github.com/scikit-optimize/scikit-optimize/issues/978\n",
    "def bayes_search_CV_init(self, estimator, search_spaces, optimizer_kwargs=None,\n",
    "                         n_iter=50, scoring=None, fit_params=None, n_jobs=1,\n",
    "                         n_points=1, iid=True, refit=True, cv=None, verbose=0,\n",
    "                         pre_dispatch='2*n_jobs', random_state=None,\n",
    "                         error_score='raise', return_train_score=False):\n",
    "\n",
    "        self.search_spaces = search_spaces\n",
    "        self.n_iter = n_iter\n",
    "        self.n_points = n_points\n",
    "        self.random_state = random_state\n",
    "        self.optimizer_kwargs = optimizer_kwargs\n",
    "        self._check_search_space(self.search_spaces)\n",
    "        self.fit_params = fit_params\n",
    "\n",
    "        super(BayesSearchCV, self).__init__(\n",
    "             estimator=estimator, scoring=scoring,\n",
    "             n_jobs=n_jobs, refit=refit, cv=cv, verbose=verbose,\n",
    "             pre_dispatch=pre_dispatch, error_score=error_score,\n",
    "             return_train_score=return_train_score)\n",
    "        \n",
    "BayesSearchCV.__init__ = bayes_search_CV_init\n",
    "\n",
    "\n",
    "\n",
    "from skopt import Optimizer\n",
    "from skopt.space import Real, Categorical, Integer\n",
    "rf_params = {\n",
    "    'n_neighbors': list(range(1,20)),\n",
    "}\n",
    "clf = KNeighborsClassifier()\n",
    "Bayes = BayesSearchCV(clf, rf_params,optimizer_kwargs = {'acq_func':'LCB'},cv=5,n_iter=20, n_jobs=1,scoring='accuracy')\n",
    "Bayes.fit(X_train, y_train)\n",
    "print(Bayes.best_params_)\n",
    "bclf = Bayes.best_estimator_\n",
    "print(\"Accuracy:\"+ str(Bayes.best_score_))"
   ]
  },
  {
   "cell_type": "code",
   "execution_count": null,
   "id": "ed9f5bf8",
   "metadata": {},
   "outputs": [],
   "source": [
    "gpucb_times=Bayes.cv_results_['mean_fit_time']+Bayes.cv_results_['mean_score_time']\n",
    "gpucb_scores = Bayes.cv_results_['mean_test_score']"
   ]
  },
  {
   "cell_type": "code",
   "execution_count": null,
   "id": "6e1fab1a",
   "metadata": {},
   "outputs": [],
   "source": []
  },
  {
   "cell_type": "markdown",
   "id": "e8131fbb",
   "metadata": {},
   "source": [
    "### 4. BOHB"
   ]
  },
  {
   "cell_type": "code",
   "execution_count": null,
   "id": "3b04a69c",
   "metadata": {},
   "outputs": [],
   "source": [
    "## Reference: https://github.com/Yard1/hpbandster-sklearn\n",
    "import numpy as np\n",
    "from sklearn.utils.validation import check_is_fitted\n",
    "from hpbandster_sklearn import HpBandSterSearchCV\n",
    "import ConfigSpace as cs\n",
    "import ConfigSpace.hyperparameters as CSH\n",
    "\n",
    "\n",
    "clf = KNeighborsClassifier()\n",
    "np.random.seed(0)\n",
    "\n",
    "param_distributions = cs.ConfigurationSpace(\n",
    "    seed=0,\n",
    "    space={\n",
    "        'n_neighbors':(1,20),  # Note the decimal to make it a float\n",
    "    }\n",
    ")\n",
    "\n",
    "bohb = HpBandSterSearchCV(clf,param_distributions,optimizer='bohb',random_state=0,n_jobs=1, n_iter=20,cv=5,scoring='accuracy', verbose=1).fit(X_train, y_train)\n",
    "# search.best_params_"
   ]
  },
  {
   "cell_type": "code",
   "execution_count": null,
   "id": "fd579196",
   "metadata": {},
   "outputs": [],
   "source": [
    "bohb_times = bohb.cv_results_['mean_fit_time']+bohb.cv_results_['mean_score_time']\n",
    "bohb_scores = bohb.cv_results_['mean_test_score']"
   ]
  },
  {
   "cell_type": "code",
   "execution_count": null,
   "id": "43cc4a5e",
   "metadata": {},
   "outputs": [],
   "source": [
    "def btd(array):\n",
    "    ##best_to_date\n",
    "    max_val = 0\n",
    "    max_vals = []\n",
    "    for ele in array:\n",
    "        if(ele>max_val):\n",
    "            max_val = ele\n",
    "        max_vals.append(max_val)\n",
    "        \n",
    "    return max_vals\n",
    "\n",
    "\n",
    "def cum_time(array):\n",
    "    total = 0\n",
    "    cum_times = []\n",
    "    for ele in array:\n",
    "        total+=ele\n",
    "        cum_times.append(total)\n",
    "    return cum_times"
   ]
  },
  {
   "cell_type": "code",
   "execution_count": null,
   "id": "69db8b44",
   "metadata": {},
   "outputs": [],
   "source": [
    "gs_scores_max,rs_scores_max,hyperband_scores_max = btd(gs_scores),btd(rs_scores),btd(hyperband_scores)\n",
    "gpucb_scores_max,bohb_scores_max = btd(gpucb_scores),btd(bohb_scores)"
   ]
  },
  {
   "cell_type": "code",
   "execution_count": null,
   "id": "ab5bad6d",
   "metadata": {},
   "outputs": [],
   "source": [
    "gs_times_cum,rs_times_cum,hyperband_times_cum = cum_time(gs_times),cum_time(rs_times),cum_time(hyperband_times)\n",
    "gpucb_times_cum,bohb_times_cum = cum_time(gpucb_times),cum_time(bohb_times)"
   ]
  },
  {
   "cell_type": "code",
   "execution_count": null,
   "id": "06d197db",
   "metadata": {},
   "outputs": [],
   "source": [
    "hyperband_scores"
   ]
  },
  {
   "cell_type": "code",
   "execution_count": null,
   "id": "d59816b3",
   "metadata": {},
   "outputs": [],
   "source": [
    "from matplotlib import pyplot as plt\n",
    "import pandas as pd\n",
    "\n",
    "gs_x = gs_times_cum\n",
    "gs_y = gs_scores_max\n",
    "gs_series = pd.Series(data=gs_y, index=gs_x)\n",
    "\n",
    "rs_x = rs_times_cum\n",
    "rs_y = rs_scores_max\n",
    "rs_series = pd.Series(data=rs_y, index=rs_x)\n",
    "\n",
    "hyperband_x = hyperband_times_cum\n",
    "hyperband_y = hyperband_scores_max\n",
    "hyperband_series = pd.Series(data=hyperband_y, index=hyperband_x)\n",
    "\n",
    "gpucb_x = gpucb_times_cum\n",
    "gpucb_y = gpucb_scores_max\n",
    "gpucb_series = pd.Series(data=gpucb_y, index=gpucb_x)\n",
    "\n",
    "bohb_x = bohb_times_cum\n",
    "bohb_y = bohb_scores_max\n",
    "bohb_series = pd.Series(data=bohb_y, index=bohb_x)\n",
    "\n",
    "\n",
    "fig, ax = plt.subplots()\n",
    "ax.plot(gs_series, label='Grid Search')\n",
    "ax.plot(rs_series, label='Random Search')\n",
    "ax.plot(hyperband_series, label='Hyperband')\n",
    "ax.plot(gpucb_series, label='GP-UCB')\n",
    "ax.plot(bohb_series, label='BOHB')\n",
    "legend = ax.legend(loc='center right', fontsize='large')\n",
    "plt.xlabel('Seconds')\n",
    "plt.ylabel('Max Accuracy to that point')\n",
    "plt.title('Comparison of Convergence Speeds for KNN on MNIST ')\n",
    "plt.show()\n",
    "\n",
    "\n"
   ]
  },
  {
   "cell_type": "code",
   "execution_count": null,
   "id": "a3955438",
   "metadata": {},
   "outputs": [],
   "source": []
  },
  {
   "cell_type": "code",
   "execution_count": null,
   "id": "8efd630e",
   "metadata": {},
   "outputs": [],
   "source": []
  },
  {
   "cell_type": "code",
   "execution_count": null,
   "id": "03624329",
   "metadata": {},
   "outputs": [],
   "source": []
  },
  {
   "cell_type": "code",
   "execution_count": null,
   "id": "5e91d083",
   "metadata": {},
   "outputs": [],
   "source": []
  },
  {
   "cell_type": "code",
   "execution_count": null,
   "id": "be911417",
   "metadata": {},
   "outputs": [],
   "source": []
  },
  {
   "cell_type": "code",
   "execution_count": null,
   "id": "5007fae6",
   "metadata": {},
   "outputs": [],
   "source": []
  },
  {
   "cell_type": "code",
   "execution_count": null,
   "id": "67f83755",
   "metadata": {},
   "outputs": [],
   "source": []
  },
  {
   "cell_type": "code",
   "execution_count": null,
   "id": "ad64a97f",
   "metadata": {},
   "outputs": [],
   "source": []
  },
  {
   "cell_type": "code",
   "execution_count": null,
   "id": "7fcb67f1",
   "metadata": {},
   "outputs": [],
   "source": []
  },
  {
   "cell_type": "code",
   "execution_count": null,
   "id": "62b5fbef",
   "metadata": {},
   "outputs": [],
   "source": []
  },
  {
   "cell_type": "code",
   "execution_count": null,
   "id": "531b1272",
   "metadata": {},
   "outputs": [],
   "source": []
  },
  {
   "cell_type": "code",
   "execution_count": null,
   "id": "a5281b9d",
   "metadata": {},
   "outputs": [],
   "source": []
  },
  {
   "cell_type": "code",
   "execution_count": null,
   "id": "c7bb1d38",
   "metadata": {},
   "outputs": [],
   "source": []
  },
  {
   "cell_type": "code",
   "execution_count": null,
   "id": "b828b923",
   "metadata": {},
   "outputs": [],
   "source": []
  },
  {
   "cell_type": "code",
   "execution_count": null,
   "id": "295ba363",
   "metadata": {},
   "outputs": [],
   "source": []
  },
  {
   "cell_type": "code",
   "execution_count": null,
   "id": "fa4c3fb7",
   "metadata": {},
   "outputs": [],
   "source": [
    "import pickle\n",
    "# with open('BOHB.pickle', 'wb') as handle:\n",
    "#     pickle.dump(bohb.cv_results_, handle, protocol=pickle.HIGHEST_PROTOCOL)\n",
    "\n",
    "with open('BOHB.pickle', 'rb') as handle:\n",
    "    bohb_dict = pickle.load(handle)"
   ]
  },
  {
   "cell_type": "code",
   "execution_count": null,
   "id": "962dd286",
   "metadata": {},
   "outputs": [],
   "source": [
    "bohb.best_estimator_"
   ]
  },
  {
   "cell_type": "code",
   "execution_count": null,
   "id": "46eee742",
   "metadata": {},
   "outputs": [],
   "source": [
    "bohb_times = bohb.cv_results_['mean_fit_time']"
   ]
  },
  {
   "cell_type": "code",
   "execution_count": null,
   "id": "3edb97a1",
   "metadata": {},
   "outputs": [],
   "source": [
    "bohb_scores = bohb.cv_results_['mean_test_score']"
   ]
  },
  {
   "cell_type": "code",
   "execution_count": null,
   "id": "3ccd1afa",
   "metadata": {},
   "outputs": [],
   "source": [
    "from sklearn.metrics import log_loss,accuracy_score\n",
    "def evaluate(params):\n",
    "    classifier = SVC().set_params(**params)\n",
    "    classifier.fit(X_train, y_train)\n",
    "    \n",
    "    y_pred=classifier.predict(X_test)\n",
    "    labels = [0,1,2,3,4,5,6,7,8,9]\n",
    "#     loss = log_loss(y_pred,y_test,labels=labels)\n",
    "    acc = accuracy_score(y_pred,y_test)\n",
    "    return acc"
   ]
  },
  {
   "cell_type": "code",
   "execution_count": null,
   "id": "854793da",
   "metadata": {},
   "outputs": [],
   "source": [
    "## Random Search\n",
    "rs_acc = []\n",
    "for param in rs['params']:\n",
    "    rs_acc.append(evaluate(param))"
   ]
  },
  {
   "cell_type": "code",
   "execution_count": null,
   "id": "147ef5e9",
   "metadata": {},
   "outputs": [],
   "source": [
    "gs_acc = []\n",
    "for param in gs['params']:\n",
    "    gs_acc.append(evaluate(param))"
   ]
  },
  {
   "cell_type": "code",
   "execution_count": null,
   "id": "0eb64f5a",
   "metadata": {},
   "outputs": [],
   "source": [
    "## Random Search\n",
    "gpucb_acc = []\n",
    "for param in gpucb['params']:\n",
    "    gpucb_acc.append(evaluate(param))"
   ]
  },
  {
   "cell_type": "code",
   "execution_count": null,
   "id": "932e956f",
   "metadata": {},
   "outputs": [],
   "source": [
    "hb_acc = []\n",
    "for param in hb['params']:\n",
    "    hb_acc.append(evaluate(param))"
   ]
  },
  {
   "cell_type": "code",
   "execution_count": null,
   "id": "71a03d04",
   "metadata": {},
   "outputs": [],
   "source": [
    "bohb_acc = []\n",
    "for param in bohb_dict['params']:\n",
    "    bohb_acc.append(evaluate(param))"
   ]
  },
  {
   "cell_type": "code",
   "execution_count": null,
   "id": "393633d6",
   "metadata": {},
   "outputs": [],
   "source": [
    "import matplotlib.pyplot as plt\n",
    "Accuracy = plt.plot(gs_acc,label='gs_acc')\n",
    "Accuracy = plt.xlabel('iter')\n",
    "Accuracy = plt.ylabel('Accuracy')\n",
    "Accuracy = plt.plot(rs_acc,label='rs_acc')\n",
    "Accuracy = plt.xlabel('iter')\n",
    "Accuracy = plt.ylabel('Accuracy')\n",
    "Accuracy = plt.plot(hb_acc[:20],label='bohb_acc')\n",
    "Accuracy = plt.xlabel('iter')\n",
    "Accuracy = plt.ylabel('Accuracy')\n",
    "Accuracy = plt.plot(bohb_acc[:20],label='bohb_acc')\n",
    "Accuracy = plt.xlabel('iter')\n",
    "Accuracy = plt.ylabel('Accuracy')\n",
    "Accuracy = plt.plot(gpucb_acc,label='gpucb_acc')\n",
    "Accuracy = plt.xlabel('iter')\n",
    "Accuracy = plt.ylabel('Accuracy')\n",
    "plt.legend()\n",
    "plt.show()"
   ]
  },
  {
   "cell_type": "code",
   "execution_count": null,
   "id": "3faaeedf",
   "metadata": {},
   "outputs": [],
   "source": [
    "rs_acc"
   ]
  },
  {
   "cell_type": "code",
   "execution_count": null,
   "id": "721a82f6",
   "metadata": {},
   "outputs": [],
   "source": []
  },
  {
   "cell_type": "code",
   "execution_count": null,
   "id": "bea006a6",
   "metadata": {},
   "outputs": [],
   "source": [
    "import numpy as np\n",
    "np.random.seed(237)\n",
    "import matplotlib.pyplot as plt\n",
    "from skopt.plots import plot_gaussian_process"
   ]
  },
  {
   "cell_type": "code",
   "execution_count": null,
   "id": "cd3be4fd",
   "metadata": {},
   "outputs": [],
   "source": [
    "noise_level = 0.1\n",
    "\n",
    "def f(x, noise_level=noise_level):\n",
    "    return np.sin(5 * x[0]) * (1 - np.tanh(x[0] ** 2))\\\n",
    "           + np.random.randn() * noise_level"
   ]
  },
  {
   "cell_type": "code",
   "execution_count": null,
   "id": "ad0a05f4",
   "metadata": {},
   "outputs": [],
   "source": [
    "from skopt import gp_minimize\n",
    "\n",
    "res = gp_minimize(f,                  # the function to minimize\n",
    "                  [(-2.0, 2.0)],      # the bounds on each dimension of x\n",
    "                  acq_func=\"LCB\",      # the acquisition function\n",
    "                  n_calls=15,         # the number of evaluations of f\n",
    "                  n_random_starts=5,  # the number of random initialization points\n",
    "                  noise=0.1**2,       # the noise level (optional)\n",
    "                  random_state=1234)   # the random seed"
   ]
  },
  {
   "cell_type": "code",
   "execution_count": null,
   "id": "64e1065c",
   "metadata": {},
   "outputs": [],
   "source": [
    "print(res)"
   ]
  },
  {
   "cell_type": "code",
   "execution_count": null,
   "id": "1cf8421e",
   "metadata": {},
   "outputs": [],
   "source": [
    "from skopt.plots import plot_convergence\n",
    "plot_convergence(res);"
   ]
  },
  {
   "cell_type": "code",
   "execution_count": null,
   "id": "a3ed75ef",
   "metadata": {},
   "outputs": [],
   "source": [
    "import numpy as np\n",
    "from sklearn.svm import SVC\n",
    "\n",
    "\n",
    "\n",
    "\n",
    "# Function mapping hyperparameters to a real-valued scpre\n",
    "def objective(hyperparameters):\n",
    "    \n",
    "    # Machine learning model\n",
    "    svm = SVC(**hyperparameters)\n",
    "    \n",
    "    \n",
    "    \n",
    "    # Training \n",
    "    svm.fit(X_train, y_train)\n",
    "    \n",
    "    # Making predictions and evaluating\n",
    "    predictions = svm.predict(X_valid)\n",
    "    rmse = np.sqrt(np.mean(np.square(prediction - y_valid)))\n",
    "    \n",
    "    return rmse"
   ]
  },
  {
   "cell_type": "code",
   "execution_count": null,
   "id": "88dc1602",
   "metadata": {},
   "outputs": [],
   "source": []
  }
 ],
 "metadata": {
  "kernelspec": {
   "display_name": "Python 3",
   "language": "python",
   "name": "python3"
  },
  "language_info": {
   "codemirror_mode": {
    "name": "ipython",
    "version": 3
   },
   "file_extension": ".py",
   "mimetype": "text/x-python",
   "name": "python",
   "nbconvert_exporter": "python",
   "pygments_lexer": "ipython3",
   "version": "3.8.8"
  }
 },
 "nbformat": 4,
 "nbformat_minor": 5
}

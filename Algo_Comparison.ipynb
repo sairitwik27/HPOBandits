{
 "cells": [
  {
   "cell_type": "markdown",
   "id": "c3df7c10",
   "metadata": {},
   "source": [
    "### Comparing GridSearch, Random Search, Hyperband,BOHB and GP-UCB"
   ]
  },
  {
   "cell_type": "code",
   "execution_count": null,
   "id": "71828f25",
   "metadata": {},
   "outputs": [],
   "source": []
  },
  {
   "cell_type": "markdown",
   "id": "cf70833f",
   "metadata": {},
   "source": [
    "### Load Dataset"
   ]
  },
  {
   "cell_type": "code",
   "execution_count": 1,
   "id": "ef21428e",
   "metadata": {},
   "outputs": [],
   "source": [
    "import pandas as pd"
   ]
  },
  {
   "cell_type": "code",
   "execution_count": 2,
   "id": "7a2136fc",
   "metadata": {},
   "outputs": [],
   "source": [
    "data = 'data/pulsar_stars.csv'\n",
    "df = pd.read_csv(data)\n",
    "df.columns = df.columns.str.strip()\n",
    "# rename column names\n",
    "df.columns = ['IP Mean', 'IP Sd', 'IP Kurtosis', 'IP Skewness', \n",
    "              'DM-SNR Mean', 'DM-SNR Sd', 'DM-SNR Kurtosis', 'DM-SNR Skewness', 'target_class']\n",
    "\n",
    "X = df.drop(['target_class'], axis=1)\n",
    "y = df['target_class']\n",
    "# split X and y into training and testing sets\n",
    "\n",
    "from sklearn.model_selection import train_test_split\n",
    "X_train, X_test, y_train, y_test = train_test_split(X, y, test_size = 0.2, random_state = 0)\n",
    "cols = X_train.columns\n",
    "\n",
    "from sklearn.preprocessing import StandardScaler\n",
    "scaler = StandardScaler()\n",
    "X_train = scaler.fit_transform(X_train)\n",
    "X_test = scaler.transform(X_test)"
   ]
  },
  {
   "cell_type": "markdown",
   "id": "553db632",
   "metadata": {},
   "source": [
    "### Algorithm Comparison"
   ]
  },
  {
   "cell_type": "markdown",
   "id": "24ab9f4d",
   "metadata": {},
   "source": [
    "### 1. GridSearch"
   ]
  },
  {
   "cell_type": "code",
   "execution_count": null,
   "id": "a3c194fd",
   "metadata": {},
   "outputs": [],
   "source": [
    "from sklearn.model_selection import GridSearchCV\n",
    "from sklearn.svm import SVC\n",
    "rf_params = {\n",
    "    'C': [1,2,3,4,5,6,7,8,9,10],\n",
    "    \"kernel\":['rbf']\n",
    "}\n",
    "clf = SVC()\n",
    "grid = GridSearchCV(clf, rf_params, cv=3,scoring='accuracy')\n",
    "grid.fit(X_train, y_train)\n",
    "print(grid.best_params_)\n",
    "print(\"Accuracy:\"+ str(grid.best_score_))"
   ]
  },
  {
   "cell_type": "code",
   "execution_count": null,
   "id": "12239a77",
   "metadata": {},
   "outputs": [],
   "source": [
    "grid.cv_results_"
   ]
  },
  {
   "cell_type": "code",
   "execution_count": null,
   "id": "c42926a3",
   "metadata": {},
   "outputs": [],
   "source": []
  },
  {
   "cell_type": "markdown",
   "id": "a016f9d7",
   "metadata": {},
   "source": [
    "### 2. RandomSearch"
   ]
  },
  {
   "cell_type": "code",
   "execution_count": null,
   "id": "bdbb55cd",
   "metadata": {},
   "outputs": [],
   "source": [
    "import scipy.stats as stats\n",
    "from scipy.stats import randint as sp_randint\n",
    "from sklearn.model_selection import RandomizedSearchCV\n",
    "rf_params = {\n",
    "    'C': stats.uniform(1,10),\n",
    "    \"kernel\":['rbf']\n",
    "}\n",
    "n_iter_search=20\n",
    "clf = SVC(gamma='scale')\n",
    "Random = RandomizedSearchCV(clf, param_distributions=rf_params,n_iter=n_iter_search,cv=3,scoring='accuracy')\n",
    "Random.fit(X, y)\n",
    "print(Random.best_params_)\n",
    "print(\"Accuracy:\"+ str(Random.best_score_))"
   ]
  },
  {
   "cell_type": "code",
   "execution_count": null,
   "id": "84377fce",
   "metadata": {},
   "outputs": [],
   "source": [
    "Random.cv_results_"
   ]
  },
  {
   "cell_type": "markdown",
   "id": "aa2ed03f",
   "metadata": {},
   "source": [
    "### 3. Hyperband"
   ]
  },
  {
   "cell_type": "code",
   "execution_count": null,
   "id": "46f74ed2",
   "metadata": {},
   "outputs": [],
   "source": [
    "import sys\n",
    "sys.path.append(\"/home/oem/Desktop/ODM_FinalProject/scikit-hyperband\")"
   ]
  },
  {
   "cell_type": "code",
   "execution_count": null,
   "id": "9c1908be",
   "metadata": {},
   "outputs": [],
   "source": [
    "from hyperband import HyperbandSearchCV\n",
    "## Hack since the sklearn version has some issues, https://github.com/scikit-optimize/scikit-optimize/issues/978\n",
    "def hyperband_search_CV_init(self, estimator, param_distributions,\n",
    "                 resource_param='n_estimators', eta=3, min_iter=1,\n",
    "                 max_iter=81, skip_last=0, scoring=None, n_jobs=1,\n",
    "                 iid=True, refit=True, cv=None,\n",
    "                 verbose=0, pre_dispatch='2*n_jobs', random_state=None,\n",
    "                 error_score='raise', return_train_score=False):\n",
    "\n",
    "        self.param_distributions = param_distributions\n",
    "        self.resource_param = resource_param\n",
    "        self.eta = eta\n",
    "        self.min_iter = min_iter\n",
    "        self.max_iter = max_iter\n",
    "        self.skip_last = skip_last\n",
    "        self.random_state = random_state\n",
    "        self.multimetric_ = False ## Again Hack to avoid error\n",
    "\n",
    "        super(HyperbandSearchCV, self).__init__(estimator=estimator, scoring=scoring, n_jobs=n_jobs,\n",
    "            refit=refit, cv=cv, verbose=verbose,\n",
    "            pre_dispatch=pre_dispatch, error_score=error_score,\n",
    "            return_train_score=return_train_score)\n",
    "        \n",
    "HyperbandSearchCV.__init__ = hyperband_search_CV_init"
   ]
  },
  {
   "cell_type": "code",
   "execution_count": null,
   "id": "22ed1d73",
   "metadata": {},
   "outputs": [],
   "source": [
    "import scipy\n",
    "from scipy.stats import randint as sp_randint\n",
    "from random import randrange as sp_randrange\n",
    "from sklearn.svm import SVC\n",
    "param_space = [list(np.logspace(np.log10(1e-2), np.log10(1e1), base = 10, num = 10)),\n",
    "               list(np.logspace(np.log10(1e-4), np.log10(1e1), base = 10, num = 10)),\n",
    "              ]\n",
    "rf_params = {\n",
    "    'C': list(np.logspace(np.log10(1e-2), np.log10(1e1), base = 10, num = 10)),\n",
    "    'gamma'\n",
    "}\n",
    "clf = SVC(gamma='scale')\n",
    "hyper = HyperbandSearchCV(clf, param_distributions =rf_params,cv=3,min_iter=1,max_iter=20,scoring='accuracy',resource_param='C')\n",
    "\n",
    "hyper.fit(X_train, y_train)\n",
    "print(hyper.best_params_)\n",
    "print(\"Accuracy:\"+ str(hyper.best_score_))"
   ]
  },
  {
   "cell_type": "code",
   "execution_count": null,
   "id": "4608a918",
   "metadata": {},
   "outputs": [],
   "source": [
    "## Reference: https://github.com/Yard1/hpbandster-sklearn\n",
    "\n",
    "from sklearn.svm import SVC\n",
    "import numpy as np\n",
    "from sklearn.utils.validation import check_is_fitted\n",
    "from hpbandster_sklearn import HpBandSterSearchCV\n",
    "import ConfigSpace as cs\n",
    "import ConfigSpace.hyperparameters as CSH\n",
    "\n",
    "\n",
    "clf = SVC(random_state=0)\n",
    "np.random.seed(0)\n",
    "\n",
    "param_distributions = cs.ConfigurationSpace(\n",
    "    seed=0,\n",
    "    space={\n",
    "        \"C\": (1,10),  # Note the decimal to make it a float\n",
    "    }\n",
    ")\n",
    "\n",
    "hyperband = HpBandSterSearchCV(clf,param_distributions,optimizer='hyperband',random_state=0,n_jobs=1,cv=3, n_iter=20, verbose=1,scoring='accuracy').fit(X_train, y_train)\n",
    "# hyperband.best_params_"
   ]
  },
  {
   "cell_type": "code",
   "execution_count": null,
   "id": "9ef39b21",
   "metadata": {},
   "outputs": [],
   "source": [
    "hyperband.cv_results_"
   ]
  },
  {
   "cell_type": "code",
   "execution_count": null,
   "id": "9734cbec",
   "metadata": {},
   "outputs": [],
   "source": [
    "print(\"Accuracy:\"+ str(hyperband.best_score_))"
   ]
  },
  {
   "cell_type": "markdown",
   "id": "f7b3fc57",
   "metadata": {},
   "source": [
    "### 4. GP-UCB"
   ]
  },
  {
   "cell_type": "code",
   "execution_count": 4,
   "id": "7cd18c9f",
   "metadata": {},
   "outputs": [],
   "source": [
    "from sklearn import datasets\n",
    "d = datasets.load_digits()\n",
    "X = d.data\n",
    "y = d.target\n",
    "\n",
    "# split X and y into training and testing sets\n",
    "\n",
    "from sklearn.model_selection import train_test_split\n",
    "X_train, X_test, y_train, y_test = train_test_split(X, y, test_size = 0.2, random_state = 0)\n",
    "\n",
    "from sklearn.preprocessing import StandardScaler\n",
    "scaler = StandardScaler()\n",
    "X_train = scaler.fit_transform(X_train)\n",
    "X_test = scaler.transform(X_test)"
   ]
  },
  {
   "cell_type": "code",
   "execution_count": 9,
   "id": "b7072006",
   "metadata": {},
   "outputs": [
    {
     "name": "stderr",
     "output_type": "stream",
     "text": [
      "/home/oem/anaconda3/lib/python3.8/site-packages/skopt/optimizer/optimizer.py:449: UserWarning: The objective has been evaluated at this point before.\n",
      "  warnings.warn(\"The objective has been evaluated \"\n",
      "/home/oem/anaconda3/lib/python3.8/site-packages/skopt/optimizer/optimizer.py:449: UserWarning: The objective has been evaluated at this point before.\n",
      "  warnings.warn(\"The objective has been evaluated \"\n",
      "/home/oem/anaconda3/lib/python3.8/site-packages/skopt/optimizer/optimizer.py:449: UserWarning: The objective has been evaluated at this point before.\n",
      "  warnings.warn(\"The objective has been evaluated \"\n",
      "/home/oem/anaconda3/lib/python3.8/site-packages/skopt/optimizer/optimizer.py:449: UserWarning: The objective has been evaluated at this point before.\n",
      "  warnings.warn(\"The objective has been evaluated \"\n",
      "/home/oem/anaconda3/lib/python3.8/site-packages/skopt/optimizer/optimizer.py:449: UserWarning: The objective has been evaluated at this point before.\n",
      "  warnings.warn(\"The objective has been evaluated \"\n",
      "/home/oem/anaconda3/lib/python3.8/site-packages/skopt/optimizer/optimizer.py:449: UserWarning: The objective has been evaluated at this point before.\n",
      "  warnings.warn(\"The objective has been evaluated \"\n",
      "/home/oem/anaconda3/lib/python3.8/site-packages/skopt/optimizer/optimizer.py:449: UserWarning: The objective has been evaluated at this point before.\n",
      "  warnings.warn(\"The objective has been evaluated \"\n",
      "/home/oem/anaconda3/lib/python3.8/site-packages/skopt/optimizer/optimizer.py:449: UserWarning: The objective has been evaluated at this point before.\n",
      "  warnings.warn(\"The objective has been evaluated \"\n"
     ]
    },
    {
     "name": "stdout",
     "output_type": "stream",
     "text": [
      "OrderedDict([('C', 10.0), ('gamma', 0.0001)])\n",
      "Accuracy:0.9464237320944638\n"
     ]
    }
   ],
   "source": [
    "## Reference: https://github.com/LiYangHart/Hyperparameter-Optimization-of-Machine-Learning-Algorithms\n",
    "\n",
    "from skopt import BayesSearchCV \n",
    "from sklearn.svm import SVC\n",
    "## Hack since the sklearn version has some issues, https://github.com/scikit-optimize/scikit-optimize/issues/978\n",
    "def bayes_search_CV_init(self, estimator, search_spaces, optimizer_kwargs=None,\n",
    "                         n_iter=50, scoring=None, fit_params=None, n_jobs=1,\n",
    "                         n_points=1, iid=True, refit=True, cv=None, verbose=0,\n",
    "                         pre_dispatch='2*n_jobs', random_state=None,\n",
    "                         error_score='raise', return_train_score=False):\n",
    "\n",
    "        self.search_spaces = search_spaces\n",
    "        self.n_iter = n_iter\n",
    "        self.n_points = n_points\n",
    "        self.random_state = random_state\n",
    "        self.optimizer_kwargs = optimizer_kwargs\n",
    "        self._check_search_space(self.search_spaces)\n",
    "        self.fit_params = fit_params\n",
    "\n",
    "        super(BayesSearchCV, self).__init__(\n",
    "             estimator=estimator, scoring=scoring,\n",
    "             n_jobs=n_jobs, refit=refit, cv=cv, verbose=verbose,\n",
    "             pre_dispatch=pre_dispatch, error_score=error_score,\n",
    "             return_train_score=return_train_score)\n",
    "        \n",
    "BayesSearchCV.__init__ = bayes_search_CV_init\n",
    "\n",
    "\n",
    "\n",
    "from skopt import Optimizer\n",
    "from skopt.space import Real, Categorical, Integer\n",
    "rf_params = {\n",
    "    'C': Real(0.01,10.0),\n",
    "    'gamma': Real(1e-4,1e1)\n",
    "}\n",
    "clf = SVC()\n",
    "Bayes = BayesSearchCV(clf, rf_params,optimizer_kwargs = {'acq_func':'LCB'},cv=5,n_iter=20, n_jobs=1,scoring='accuracy')\n",
    "Bayes.fit(X_train, y_train)\n",
    "print(Bayes.best_params_)\n",
    "bclf = Bayes.best_estimator_\n",
    "print(\"Accuracy:\"+ str(Bayes.best_score_))"
   ]
  },
  {
   "cell_type": "code",
   "execution_count": 10,
   "id": "0f3dd51e",
   "metadata": {},
   "outputs": [
    {
     "data": {
      "text/plain": [
       "{'mean_fit_time': array([0.12605648, 0.16359534, 0.16378541, 0.15394454, 0.15086856,\n",
       "        0.12464113, 0.11287956, 0.1135735 , 0.11346483, 0.14633694,\n",
       "        0.04523683, 0.04898419, 0.04874325, 0.13656893, 0.04663172,\n",
       "        0.05051475, 0.05333457, 0.05411663, 0.04868598, 0.04855709]),\n",
       " 'std_fit_time': array([0.00329496, 0.00225543, 0.00709409, 0.00211515, 0.00120157,\n",
       "        0.00075555, 0.00061261, 0.00103106, 0.00508652, 0.0185607 ,\n",
       "        0.00992022, 0.01084053, 0.01137152, 0.00264122, 0.0127674 ,\n",
       "        0.01051861, 0.01466269, 0.00814189, 0.01109374, 0.00753251]),\n",
       " 'mean_score_time': array([0.02186146, 0.03300776, 0.03281164, 0.03138375, 0.02872086,\n",
       "        0.02312083, 0.01892171, 0.01935439, 0.02091961, 0.02713552,\n",
       "        0.01561208, 0.01838746, 0.01638551, 0.02564349, 0.01699338,\n",
       "        0.01916728, 0.01759872, 0.02124896, 0.01646986, 0.01865001]),\n",
       " 'std_score_time': array([1.02258460e-04, 1.88961403e-04, 5.86958826e-04, 7.26296972e-04,\n",
       "        1.02929256e-03, 1.70244516e-04, 9.54854473e-05, 1.03050302e-03,\n",
       "        8.24280239e-04, 1.11797784e-04, 8.88045736e-04, 4.43022719e-03,\n",
       "        9.97644617e-04, 1.42037344e-04, 3.65906169e-03, 4.25406362e-03,\n",
       "        1.24450691e-03, 4.57258211e-03, 1.34021035e-03, 4.06699278e-03]),\n",
       " 'param_C': masked_array(data=[6.733496577500511, 8.750956140645213,\n",
       "                    5.479276952726798, 2.892583440919645,\n",
       "                    5.542084350142655, 8.104871861074365,\n",
       "                    6.026603870657564, 4.371569268013788,\n",
       "                    0.5394493799135559, 1.1130279555306435, 10.0, 10.0,\n",
       "                    10.0, 9.835104399936313, 10.0, 10.0, 10.0, 10.0, 10.0,\n",
       "                    10.0],\n",
       "              mask=[False, False, False, False, False, False, False, False,\n",
       "                    False, False, False, False, False, False, False, False,\n",
       "                    False, False, False, False],\n",
       "        fill_value='?',\n",
       "             dtype=object),\n",
       " 'param_gamma': masked_array(data=[0.36068313618614534, 8.0940567641212,\n",
       "                    7.5022117317000365, 7.385196649996819,\n",
       "                    9.241707375167353, 5.121394023615234,\n",
       "                    2.615334265470825, 2.580602621240083,\n",
       "                    3.742101142920002, 8.81079657267141, 0.0001, 0.0001,\n",
       "                    0.0001, 10.0, 0.0001, 0.0001, 0.0001, 0.0001, 0.0001,\n",
       "                    0.0001],\n",
       "              mask=[False, False, False, False, False, False, False, False,\n",
       "                    False, False, False, False, False, False, False, False,\n",
       "                    False, False, False, False],\n",
       "        fill_value='?',\n",
       "             dtype=object),\n",
       " 'params': [OrderedDict([('C', 6.733496577500511),\n",
       "               ('gamma', 0.36068313618614534)]),\n",
       "  OrderedDict([('C', 8.750956140645213), ('gamma', 8.0940567641212)]),\n",
       "  OrderedDict([('C', 5.479276952726798), ('gamma', 7.5022117317000365)]),\n",
       "  OrderedDict([('C', 2.892583440919645), ('gamma', 7.385196649996819)]),\n",
       "  OrderedDict([('C', 5.542084350142655), ('gamma', 9.241707375167353)]),\n",
       "  OrderedDict([('C', 8.104871861074365), ('gamma', 5.121394023615234)]),\n",
       "  OrderedDict([('C', 6.026603870657564), ('gamma', 2.615334265470825)]),\n",
       "  OrderedDict([('C', 4.371569268013788), ('gamma', 2.580602621240083)]),\n",
       "  OrderedDict([('C', 0.5394493799135559), ('gamma', 3.742101142920002)]),\n",
       "  OrderedDict([('C', 1.1130279555306435), ('gamma', 8.81079657267141)]),\n",
       "  OrderedDict([('C', 10.0), ('gamma', 0.0001)]),\n",
       "  OrderedDict([('C', 10.0), ('gamma', 0.0001)]),\n",
       "  OrderedDict([('C', 10.0), ('gamma', 0.0001)]),\n",
       "  OrderedDict([('C', 9.835104399936313), ('gamma', 10.0)]),\n",
       "  OrderedDict([('C', 10.0), ('gamma', 0.0001)]),\n",
       "  OrderedDict([('C', 10.0), ('gamma', 0.0001)]),\n",
       "  OrderedDict([('C', 10.0), ('gamma', 0.0001)]),\n",
       "  OrderedDict([('C', 10.0), ('gamma', 0.0001)]),\n",
       "  OrderedDict([('C', 10.0), ('gamma', 0.0001)]),\n",
       "  OrderedDict([('C', 10.0), ('gamma', 0.0001)])],\n",
       " 'split0_test_score': array([0.45138889, 0.10763889, 0.10763889, 0.10763889, 0.10763889,\n",
       "        0.10763889, 0.10763889, 0.10763889, 0.10763889, 0.10763889,\n",
       "        0.92708333, 0.92708333, 0.92708333, 0.10763889, 0.92708333,\n",
       "        0.92708333, 0.92708333, 0.92708333, 0.92708333, 0.92708333]),\n",
       " 'split1_test_score': array([0.40625   , 0.10763889, 0.10763889, 0.10763889, 0.10763889,\n",
       "        0.10763889, 0.11111111, 0.11111111, 0.10763889, 0.10763889,\n",
       "        0.95486111, 0.95486111, 0.95486111, 0.10763889, 0.95486111,\n",
       "        0.95486111, 0.95486111, 0.95486111, 0.95486111, 0.95486111]),\n",
       " 'split2_test_score': array([0.35888502, 0.10801394, 0.10801394, 0.10801394, 0.10801394,\n",
       "        0.10801394, 0.10801394, 0.10801394, 0.10801394, 0.10801394,\n",
       "        0.95818815, 0.95818815, 0.95818815, 0.10801394, 0.95818815,\n",
       "        0.95818815, 0.95818815, 0.95818815, 0.95818815, 0.95818815]),\n",
       " 'split3_test_score': array([0.32752613, 0.10452962, 0.10452962, 0.10452962, 0.10452962,\n",
       "        0.10452962, 0.10801394, 0.10801394, 0.10452962, 0.10452962,\n",
       "        0.94076655, 0.94076655, 0.94076655, 0.10452962, 0.94076655,\n",
       "        0.94076655, 0.94076655, 0.94076655, 0.94076655, 0.94076655]),\n",
       " 'split4_test_score': array([0.41114983, 0.10801394, 0.10801394, 0.10801394, 0.10801394,\n",
       "        0.10801394, 0.10801394, 0.10801394, 0.10801394, 0.10801394,\n",
       "        0.95121951, 0.95121951, 0.95121951, 0.10801394, 0.95121951,\n",
       "        0.95121951, 0.95121951, 0.95121951, 0.95121951, 0.95121951]),\n",
       " 'mean_test_score': array([0.39103997, 0.10716705, 0.10716705, 0.10716705, 0.10716705,\n",
       "        0.10716705, 0.10855836, 0.10855836, 0.10716705, 0.10716705,\n",
       "        0.94642373, 0.94642373, 0.94642373, 0.10716705, 0.94642373,\n",
       "        0.94642373, 0.94642373, 0.94642373, 0.94642373, 0.94642373]),\n",
       " 'std_test_score': array([0.04323353, 0.00132934, 0.00132934, 0.00132934, 0.00132934,\n",
       "        0.00132934, 0.00128461, 0.00128461, 0.00132934, 0.00132934,\n",
       "        0.01130173, 0.01130173, 0.01130173, 0.00132934, 0.01130173,\n",
       "        0.01130173, 0.01130173, 0.01130173, 0.01130173, 0.01130173]),\n",
       " 'rank_test_score': array([10, 13, 13, 13, 13, 13, 11, 11, 13, 13,  1,  1,  1, 13,  1,  1,  1,\n",
       "         1,  1,  1], dtype=int32)}"
      ]
     },
     "execution_count": 10,
     "metadata": {},
     "output_type": "execute_result"
    }
   ],
   "source": [
    "Bayes.cv_results_[]"
   ]
  },
  {
   "cell_type": "code",
   "execution_count": null,
   "id": "ed9f5bf8",
   "metadata": {},
   "outputs": [],
   "source": []
  },
  {
   "cell_type": "markdown",
   "id": "e8131fbb",
   "metadata": {},
   "source": [
    "### 4. BOHB"
   ]
  },
  {
   "cell_type": "code",
   "execution_count": null,
   "id": "3b04a69c",
   "metadata": {},
   "outputs": [],
   "source": [
    "## Reference: https://github.com/Yard1/hpbandster-sklearn\n",
    "\n",
    "from sklearn.svm import SVC\n",
    "import numpy as np\n",
    "from sklearn.utils.validation import check_is_fitted\n",
    "from hpbandster_sklearn import HpBandSterSearchCV\n",
    "import ConfigSpace as cs\n",
    "import ConfigSpace.hyperparameters as CSH\n",
    "\n",
    "\n",
    "clf = SVC(random_state=0)\n",
    "np.random.seed(0)\n",
    "\n",
    "param_distributions = cs.ConfigurationSpace(\n",
    "    seed=0,\n",
    "    space={\n",
    "        \"C\": (1,10),  # Note the decimal to make it a float\n",
    "    }\n",
    ")\n",
    "\n",
    "search = HpBandSterSearchCV(clf,param_distributions,optimizer='bohb',random_state=0,n_jobs=1, n_iter=20,cv=3,scoring='accuracy', verbose=1).fit(X_train, y_train)\n",
    "search.best_params_"
   ]
  },
  {
   "cell_type": "code",
   "execution_count": null,
   "id": "962dd286",
   "metadata": {},
   "outputs": [],
   "source": [
    "search.best_estimator_"
   ]
  },
  {
   "cell_type": "code",
   "execution_count": null,
   "id": "31de2ecc",
   "metadata": {},
   "outputs": [],
   "source": [
    "search.best_score_"
   ]
  },
  {
   "cell_type": "code",
   "execution_count": null,
   "id": "231d9307",
   "metadata": {},
   "outputs": [],
   "source": []
  },
  {
   "cell_type": "code",
   "execution_count": null,
   "id": "cda55b02",
   "metadata": {},
   "outputs": [],
   "source": [
    "import numpy as np\n",
    "np.random.seed(237)\n",
    "import matplotlib.pyplot as plt\n",
    "from skopt.plots import plot_gaussian_process"
   ]
  },
  {
   "cell_type": "code",
   "execution_count": null,
   "id": "9c9bd94a",
   "metadata": {},
   "outputs": [],
   "source": [
    "noise_level = 0.1\n",
    "\n",
    "def f(x, noise_level=noise_level):\n",
    "    return np.sin(5 * x[0]) * (1 - np.tanh(x[0] ** 2))\\\n",
    "           + np.random.randn() * noise_level"
   ]
  },
  {
   "cell_type": "code",
   "execution_count": null,
   "id": "a234c48d",
   "metadata": {},
   "outputs": [],
   "source": [
    "from skopt import gp_minimize\n",
    "\n",
    "res = gp_minimize(f,                  # the function to minimize\n",
    "                  [(-2.0, 2.0)],      # the bounds on each dimension of x\n",
    "                  acq_func=\"LCB\",      # the acquisition function\n",
    "                  n_calls=15,         # the number of evaluations of f\n",
    "                  n_random_starts=5,  # the number of random initialization points\n",
    "                  noise=0.1**2,       # the noise level (optional)\n",
    "                  random_state=1234)   # the random seed"
   ]
  },
  {
   "cell_type": "code",
   "execution_count": null,
   "id": "f9511b50",
   "metadata": {},
   "outputs": [],
   "source": [
    "print(res)"
   ]
  },
  {
   "cell_type": "code",
   "execution_count": null,
   "id": "555f0422",
   "metadata": {},
   "outputs": [],
   "source": [
    "from skopt.plots import plot_convergence\n",
    "plot_convergence(res);"
   ]
  },
  {
   "cell_type": "code",
   "execution_count": null,
   "id": "4814ffc6",
   "metadata": {},
   "outputs": [],
   "source": [
    "import numpy as np\n",
    "from sklearn.svm import SVC\n",
    "\n",
    "\n",
    "\n",
    "\n",
    "# Function mapping hyperparameters to a real-valued scpre\n",
    "def objective(hyperparameters):\n",
    "    \n",
    "    # Machine learning model\n",
    "    svm = SVC(**hyperparameters)\n",
    "    \n",
    "    \n",
    "    \n",
    "    # Training \n",
    "    svm.fit(X_train, y_train)\n",
    "    \n",
    "    # Making predictions and evaluating\n",
    "    predictions = svm.predict(X_valid)\n",
    "    rmse = np.sqrt(np.mean(np.square(prediction - y_valid)))\n",
    "    \n",
    "    return rmse"
   ]
  }
 ],
 "metadata": {
  "kernelspec": {
   "display_name": "Python 3",
   "language": "python",
   "name": "python3"
  },
  "language_info": {
   "codemirror_mode": {
    "name": "ipython",
    "version": 3
   },
   "file_extension": ".py",
   "mimetype": "text/x-python",
   "name": "python",
   "nbconvert_exporter": "python",
   "pygments_lexer": "ipython3",
   "version": "3.8.8"
  }
 },
 "nbformat": 4,
 "nbformat_minor": 5
}
